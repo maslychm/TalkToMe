{
  "nbformat": 4,
  "nbformat_minor": 0,
  "metadata": {
    "colab": {
      "name": "GPT.ipynb",
      "provenance": [],
      "collapsed_sections": [],
      "machine_shape": "hm"
    },
    "kernelspec": {
      "name": "python3",
      "display_name": "Python 3"
    },
    "language_info": {
      "name": "python"
    },
    "accelerator": "GPU"
  },
  "cells": [
    {
      "cell_type": "code",
      "metadata": {
        "colab": {
          "base_uri": "https://localhost:8080/"
        },
        "id": "-jUeIUw2F6wz",
        "outputId": "aff2bfa9-97ff-4d30-91a3-c065a53670be"
      },
      "source": [
        "from google.colab import drive\n",
        "drive.mount('/content/drive')"
      ],
      "execution_count": 1,
      "outputs": [
        {
          "output_type": "stream",
          "name": "stdout",
          "text": [
            "Drive already mounted at /content/drive; to attempt to forcibly remount, call drive.mount(\"/content/drive\", force_remount=True).\n"
          ]
        }
      ]
    },
    {
      "cell_type": "code",
      "metadata": {
        "colab": {
          "base_uri": "https://localhost:8080/"
        },
        "id": "kmSQ0YMNF75w",
        "outputId": "5e857e32-ef8f-40af-8408-7d7dbc3d4225"
      },
      "source": [
        "%cd /content/drive/MyDrive/"
      ],
      "execution_count": 2,
      "outputs": [
        {
          "output_type": "stream",
          "name": "stdout",
          "text": [
            "/content/drive/MyDrive\n"
          ]
        }
      ]
    },
    {
      "cell_type": "code",
      "metadata": {
        "colab": {
          "base_uri": "https://localhost:8080/"
        },
        "id": "aLnJmuJ-GJex",
        "outputId": "e50434c0-736f-4739-dab5-29cc24437553"
      },
      "source": [
        "!mkdir checkpoints"
      ],
      "execution_count": 3,
      "outputs": [
        {
          "output_type": "stream",
          "name": "stdout",
          "text": [
            "mkdir: cannot create directory ‘checkpoints’: File exists\n"
          ]
        }
      ]
    },
    {
      "cell_type": "code",
      "metadata": {
        "colab": {
          "base_uri": "https://localhost:8080/"
        },
        "id": "Yv8Q8Rb3GLGD",
        "outputId": "1492af3f-9cbe-47a0-8e69-5e49f9b45f19"
      },
      "source": [
        "!git clone https://github.com/mohamad-ali-nasser/gpt-2.git"
      ],
      "execution_count": 4,
      "outputs": [
        {
          "output_type": "stream",
          "name": "stdout",
          "text": [
            "fatal: destination path 'gpt-2' already exists and is not an empty directory.\n"
          ]
        }
      ]
    },
    {
      "cell_type": "code",
      "metadata": {
        "id": "RzbwZjMKHUP1"
      },
      "source": [
        ""
      ],
      "execution_count": 4,
      "outputs": []
    },
    {
      "cell_type": "code",
      "metadata": {
        "colab": {
          "base_uri": "https://localhost:8080/"
        },
        "id": "VS2edU9xICcH",
        "outputId": "aafca21b-fc3d-452b-d993-a896673d9b13"
      },
      "source": [
        "import gpt_2_simple as gpt2\n",
        "import os\n",
        "import requests\n",
        "\n",
        "model_name = \"355M\"\n",
        "if not os.path.isdir(os.path.join(\"models\", model_name)):\n",
        "\tprint(f\"Downloading {model_name} model...\")\n",
        "\tgpt2.download_gpt2(model_name=model_name)   # model is saved into current directory under /models/355M/\n",
        "\n",
        "\n",
        "file_name = \"/content/drive/MyDrive/training_2.txt\"\n",
        "\n",
        "\n",
        "sess = gpt2.start_tf_sess()\n",
        "gpt2.finetune(sess,\n",
        "              dataset=file_name,\n",
        "              model_name=model_name,\n",
        "              steps=400,\n",
        "              restore_from='fresh',\n",
        "              run_name='run1',\n",
        "              print_every=10,\n",
        "              sample_every=50,\n",
        "              save_every=100,\n",
        "              #use_memory_saving_gradients = True,\n",
        "\t            only_train_transformer_layers = True,\n",
        "\t            accumulate_gradients = 1\n",
        "              ) # steps is max number of training steps\n",
        "\n",
        "gpt2.generate(sess)"
      ],
      "execution_count": 5,
      "outputs": [
        {
          "output_type": "stream",
          "name": "stdout",
          "text": [
            "For larger models, the recommended finetune() parameters are:\n",
            "\tuse_memory_saving_gradients = True\n",
            "\tonly_train_transformer_layers = True\n",
            "\taccumulate_gradients = 1\n",
            "\n",
            "Loading checkpoint models/355M/model.ckpt\n",
            "INFO:tensorflow:Restoring parameters from models/355M/model.ckpt\n",
            "Loading dataset...\n"
          ]
        },
        {
          "output_type": "stream",
          "name": "stderr",
          "text": [
            "100%|██████████| 1/1 [00:00<00:00, 630.82it/s]"
          ]
        },
        {
          "output_type": "stream",
          "name": "stdout",
          "text": [
            "dataset has 15763 tokens\n",
            "Training...\n"
          ]
        },
        {
          "output_type": "stream",
          "name": "stderr",
          "text": [
            "\n"
          ]
        },
        {
          "output_type": "stream",
          "name": "stdout",
          "text": [
            "[10 | 15.07] loss=3.03 avg=3.03\n",
            "[20 | 21.76] loss=3.07 avg=3.05\n",
            "[30 | 28.45] loss=1.69 avg=2.59\n",
            "[40 | 35.14] loss=1.58 avg=2.33\n",
            "[50 | 41.82] loss=1.61 avg=2.19\n",
            "======== SAMPLE 1 ========\n",
            " clearly my favourite thing about these are the cute little critters. <|endoftext|>  Steven: Yup. You can play with the toys too. Go play with the others. I'm still in the park now ok? <|endoftext|> \n",
            "Mykola: Hey <|endoftext|>  Steven: Did you graduate? <|endoftext|> \n",
            "Mykola: No I'm still in the program now im not getting promoted nor are we going to India bcz of course one is for industry and the other for academia <|endoftext|>  Steven: I'm staying in my dorm with my girlfriend I'm gonna work till like 3am But I'm gonna go to work from 12:30 to 12:45 So I'm gonna go play with the other 2 my classmates <|endoftext|> \n",
            "Mykola: OK fine Im not in the mood to talk to you <|endoftext|>  Steven: OK fine. Let's meet again at the end of week <|endoftext|> \n",
            "Mykola: Hehe OK fine I will be back in 10 min <|endoftext|>  Steven: Can I borrow your phone please! Tell me about your plans for this week :) <|endoftext|> \n",
            "Mykola: I'm thinking more in-house and developing a product together Bas bte5m dalw <|endoftext|>  Steven: OK fine then start by meeting the people who you worked with. Work on a solution and then have a talk. Then have a look at the application and start building out a product. In 2-3 weeks <|endoftext|> \n",
            "Mykola: That was exactly what we were looking for! Congratulations! You have a very interesting career! <|endoftext|>  Steven: I'm gonna graduate in 3 months. That's why I'm going to India <|endoftext|> \n",
            "Mykola: Great! Thanks for the invite! Did you finish grading? Oh yeah. Did you start school? Oh yeah I start in 3 weeks <|endoftext|>  Steven: Oh yeah no worries! I've received all of my exams now :/ <|endoftext|> \n",
            "Mykola: Great! Did you start studying? <|endoftext|>  Steven: Yes, I'm currently in the final examination. Here is the link to take you to the exam room: https://www.or...n-ed.byu.ac.jp/en/enrol.html If that's what happens, then I will go for finals on Wednesday <|endoftext|> \n",
            "Mykola: Awesome! Did you start with Biology or Chemistry? <|endoftext|>  Steven: Chemistry I'm taking both. Biology I will study 2 more semester's worth of UC Berkeley courses and then I will choose the major <|endoftext|> \n",
            "Mykola: Okkk <|endoftext|>  Steven: If you take Physics and Calculus you can also take Calculus 3.0 <|endoftext|> \n",
            "Mykola: Okkk I'll take it! I'm not planning on taking any higher math but if there's something you're passionate about, get it done. I'm always curious <|endoftext|>  Steven: It's amazing! <|endoftext|> \n",
            "Mykola: Sounds good to me <|endoftext|>  Steven: Thank you so much! I'm gonna get back to studying but I'm gonna start studying the others by the end of the week. I'm excited to get started with the others too <|endoftext|> \n",
            "Mykola: Yeah I wanna go to the office to study by myself but I can go to the store to pick up my library card if you need anything else :/ <|endoftext|>  Steven: I don't think so. Did you start getting an application to do this? <|endoftext|> \n",
            "Mykola: I applied w nzavasil I think bas a number of people turned me down because of his criminal record <|endoftext|>  Steven: I didn't turn anyone down <|endoftext|> \n",
            "Mykola: I understand but how many other people are in this? <|endoftext|>  Steven: I'm not gonna share it w that's for sure. Do you have any other interviews? <|endoftext|> \n",
            "Mykola: Nb it's the fact he's in a position of trust and he doesn't want anyone to fall into the wrong hands <|endoftext|>  Steven: I am not gonna say anything about those\n",
            "\n",
            "[60 | 68.59] loss=1.18 avg=2.01\n",
            "[70 | 75.29] loss=1.01 avg=1.87\n",
            "[80 | 81.98] loss=0.18 avg=1.65\n",
            "[90 | 88.68] loss=0.77 avg=1.55\n",
            "[100 | 95.38] loss=0.33 avg=1.42\n",
            "Saving checkpoint/run1/model-100\n",
            "======== SAMPLE 1 ========\n",
            ">> \n",
            "Mykola: Why not? He's in a meeting Now stop worrying and do something productive <|endoftext|> \n",
            "Mykola: It's not in my role description <|endoftext|> \n",
            "Mykola: I'll see, hope he doesn't mind <|endoftext|> \n",
            "Mykola: He's understanding and did not change with me which is fine He kept me on task He said don't go against the flow, but I have to keep track of everything I'm doing Now go to Paris for clashing objectives <|endoftext|> \n",
            "Mykola: Ni bil aala beirut What are you interested in? <|endoftext|> \n",
            "Mykola: Ah <|endoftext|> \n",
            "Mykola: Tesla Motors <|endoftext|> \n",
            "Mykola: EE <|endoftext|> \n",
            "Mykola: I'm interested in disaster recovery but I need to work on other things <|endoftext|> \n",
            "Mykola: Here are the courses you've taken so far Enroll now! We'll see if something changes <|endoftext|> \n",
            "Mykola: Can you upload the course materials? How many lessons do you need to know? <|endoftext|> \n",
            "Mykola: I made a bunch of messes. I hope you find them all useful <|endoftext|> \n",
            "Mykola: Good <|endoftext|> \n",
            "Mykola: I've been meaning to take the Curacao route but I got carried away with my vacation and didn't make time for it I will go to Amsterdam on the 27th can you recommend 3a budget departure and arrival time? <|endoftext|> \n",
            "Mykola: I got this. Check it out. It's really cool <|endoftext|> \n",
            "Mykola: Oh wow Bas eno 3a budget ea maa reliable source <|endoftext|> \n",
            "Mykola: Oh wow I didn't realize you were into that sorta thing <|endoftext|> \n",
            "Mykola: Not really. I'm more of a data scientist type of guy. <|endoftext|> \n",
            "Mykola: Oh wow So you get by okay? How's everything with you? <|endoftext|> \n",
            "Mykola: Hii <|endoftext|> \n",
            "Mykola: L wifi ma aam yeje mnih ekher kam yom so I'm done w rah skeejayeet <|endoftext|> \n",
            "Mykola: Oh wow You didn't end up working with the software though? <|endoftext|> \n",
            "Mykola: Not really. I got carried away. I won't do it again but hopefully the network will improve <|endoftext|> \n",
            "Mykola: Bas eno 3a budget ea ma mnih i got carried away with vacation w no time to study w cheap cable TV <|endoftext|> \n",
            "Mykola: Oh wow That's nice <|endoftext|> \n",
            "Mykola: I used to be able to do a little bit of interning but since I was busy with work ZERO I could do that Now I'm just wasting my time I have way too many things to talk about <|endoftext|> \n",
            "Mykola: Oh wow You literally can't let go <|endoftext|> \n",
            "Mykola: I can't <|endoftext|> \n",
            "Mykola: You literally can't... I'm pretty sure you're gonna sleep now. We just got done working on the project. I'm super excited to sleep in today. Baars, bummer. Cz he's going to France on the 27th. I'll sleep in on the weekend. Grrr <|endoftext|> \n",
            "Mykola: I will sleep in this weekend. Baars, bummer. Cz he's going to France on the 27th. I'll sleep in on the weekend. Grrr <|endoftext|> \n",
            "Mykola: I will. My boyfriend and I are completely independent now. We still have to pay rent and utilities but we are happy with the way things turned out. ZERO to 100% is feeling like home. I miss it so much. <|endoftext|> \n",
            "Mykola: Yup I can't force him to do anything but I will try to. I will sleep in today. Maybe I'll ask him to join me. It's cold outside. Cz he's gonna fly out tomorrow. I'm sure he'll be disappointed\n",
            "\n",
            "[110 | 129.36] loss=0.16 avg=1.30\n",
            "[120 | 136.06] loss=0.10 avg=1.19\n",
            "[130 | 142.75] loss=0.10 avg=1.11\n",
            "[140 | 149.45] loss=0.07 avg=1.03\n",
            "[150 | 156.15] loss=0.08 avg=0.96\n",
            "======== SAMPLE 1 ========\n",
            "> <|endoftext|>  Steven: sho kamen fi technique? <|endoftext|> \n",
            "Mykola: It's all about the flow of the page <|endoftext|>  Steven: how's everything? <|endoftext|> \n",
            "Mykola: Everything is okay. The server is down. I think it's because of you <|endoftext|>  Steven: died a horrible death 8w Tikkun Bas lezm a3ml shi he was offline all day lol <|endoftext|> \n",
            "Mykola: Hahahaha Okay thanks i guess  <|endoftext|>  Steven: accepted your challenge. You win <|endoftext|> \n",
            "Mykola: Allah yestor ma 5antique IT w esh ulaym bureau bantilliya <|endoftext|>  Steven: oh cool <|endoftext|> \n",
            "Mykola: Yep <|endoftext|>  Steven: kamen. You win <|endoftext|> \n",
            "Mykola: Nooooooo Little things <|endoftext|>  Steven: kamen <|endoftext|> \n",
            "Mykola: Nothing big mu wen badna l beit b wasile? <|endoftext|>  Steven: 3ate party invitation <|endoftext|> \n",
            "Mykola: Nothing big <|endoftext|>  Steven: nothing big <|endoftext|> \n",
            "Mykola: Nothing big <|endoftext|>  Steven: well it's over was one hell of a time tho <|endoftext|> \n",
            "Mykola: My sister went to dinner with her friends in khaldeh so I don't have ta moteur be accountable <|endoftext|>  Steven:  <|endoftext|> \n",
            "Mykola: Btw Did you finish cooking? <|endoftext|>  Steven: yes wait <|endoftext|> \n",
            "Mykola: Ouf enta are you frustrated a little? <|endoftext|>  Steven: i'm not tracking the metrics but I can't get them to stop bugging me <|endoftext|> \n",
            "Mykola: btw la wen bst3ml shi? <|endoftext|>  Steven: ta ma fi shi bst3ml so I'm stuck at wen ma fi shi <|endoftext|> \n",
            "Mykola: Oh no xddd <|endoftext|>  Steven: idk <|endoftext|> \n",
            "Mykola: Oh no xddd <|endoftext|>  Steven: arghhh it's over is this even real? <|endoftext|> \n",
            "Mykola: Aww Waaaaahh It's over is this even real? <|endoftext|>  Steven:  nevermind idk <|endoftext|> \n",
            "Mykola: Ouf enta are you frustrated a little? <|endoftext|>  Steven: i'm not tracking the metrics but I can't get them to stop bugging me <|endoftext|> \n",
            "Mykola: Bst3ml shi? <|endoftext|>  Steven: no not with them :( <|endoftext|> \n",
            "Mykola: Mehdi Bas I'm fully committed to my friend Mehdi's studies Cooperating fully is my problem At least for now Miriam I'm fully committed to my friend Esmail's studies Cooperating fully is my problem At least for now <|endoftext|>  Steven: and khalas be it's either that or stay at home and do nothing <|endoftext|> \n",
            "Mykola: Blah blah blah blah <|endoftext|>  Steven: don't you have projects? <|endoftext|> \n",
            "Mykola: Blah blah blah blah <|endoftext|>  Steven: don't you have projects? <|endoftext|> \n",
            "Mykola: Me too <|endoftext|>  Steven: yeah come to think of it i may not be able to continue this since it's a semester-long assignment <|endoftext|> \n",
            "Mykola: I'm fully committed to my friend Mehdi's studies Cooperating fully is my problem At least for now Miriam I'm fully committed to my friend Esmail's studies Cooperating fully is my problem At least for now <|endoftext|>  Steven: and khalas be it's either that or stay at home and do nothing\n",
            "\n",
            "[160 | 180.20] loss=0.04 avg=0.90\n",
            "[170 | 186.90] loss=0.06 avg=0.84\n",
            "[180 | 193.60] loss=0.09 avg=0.80\n",
            "[190 | 200.30] loss=0.03 avg=0.75\n",
            "[200 | 206.99] loss=0.08 avg=0.72\n",
            "Saving checkpoint/run1/model-200\n",
            "WARNING:tensorflow:From /usr/local/lib/python3.7/dist-packages/tensorflow/python/training/saver.py:1058: remove_checkpoint (from tensorflow.python.training.checkpoint_management) is deprecated and will be removed in a future version.\n",
            "Instructions for updating:\n",
            "Use standard file APIs to delete files with this prefix.\n",
            "======== SAMPLE 1 ========\n",
            " it? <|endoftext|> \n",
            "Mykola: OK good Nope btsarif kel l belden fi ma 3ada 3barra Btw Bas I've seen some good ones, but I've also seen a few bad ones <|endoftext|>  Steven: Miriam please watch for a sec <|endoftext|> \n",
            "Mykola: Aww <|endoftext|>  Steven: Miriam please watch for a sec let me check my email <|endoftext|> \n",
            "Mykola: I've also watched a few things but I'm still waiting for the rest Oh but I'm still waiting for the rest <|endoftext|>  Steven: I'm still waiting for the rest of the series too But now I can finally watch it with my friends ... <|endoftext|> \n",
            "Mykola: Awesome Miriam I'll watch it in full length <|endoftext|>  Steven: greattttttttttt you get scenes in 3rd person w 3rd person is full body shot w l im bounding pelesna l sobeh <|endoftext|> \n",
            "Mykola: Okay thank you so much good night <|endoftext|>  Steven: killo tamem l 7issimi bala battery sah? <|endoftext|> \n",
            "Mykola: Turned out good The pacing was good and the scenes well thought of The actors did a nice job The voice of the main character was creepy But I got through it w he ken frotz ot they should have called him Zero <|endoftext|>  Steven: goodnight Hi Ghaffar <|endoftext|> \n",
            "Mykola: It's trueeee <|endoftext|>  Steven: goodnight hi sari <|endoftext|> \n",
            "Mykola: It's trueeee Did you take pictures? <|endoftext|>  Steven: yes I did take these crazy pictures <|endoftext|> \n",
            "Mykola: Cool Fi shi lezem t3mlee khaso l sobeh <|endoftext|>  Steven: nicest thing he's done so far <|endoftext|> \n",
            "Mykola: I visited zaarif he did not know what to do <|endoftext|>  Steven: nicest thing he's done so far <|endoftext|> \n",
            "Mykola: I visited once and was satisfied Bas w etham bukra ma 3refet w etham b 3refet w etham b 3refet <|endoftext|>  Steven: nicest thing he's done so far <|endoftext|> \n",
            "Mykola: Good luck! Is everything okay? <|endoftext|>  Steven: yeah everything is okay l7amdidn shi he did not know what to do <|endoftext|> \n",
            "Mykola: I visited once and was dissatisfied With the service I received <|endoftext|>  Steven: I received a confirmation email for this but I did not receive it lol <|endoftext|> \n",
            "Mykola: I visited once and was satisfied With the service I received <|endoftext|>  Steven: I received a confirmation email for this but I did not receive it lol <|endoftext|> \n",
            "Mykola: I visited once and was dissatisfied With the service I received <|endoftext|>  Steven: I received a confirmation email for this but I did not receive it lol <|endoftext|> \n",
            "Mykola: I visited once and was satisfied With the service I received <|endoftext|>  Steven: I received a confirmation email for this but I did not receive it lol <|endoftext|> \n",
            "Mykola: I visited once and was dissatisfied With the service I received <|endoftext|>  Steven: I received a confirmation email for this but I did not receive it lol <|endoftext|> \n",
            "Mykola: I visited once and was satisfied With the service I received <|endoftext|>  Steven: I received a confirmation email for this but I did not receive it lol <|endoftext|> \n",
            "Mykola: I visited once and was dissatisfied With the service I received <|endoftext|>  Steven: I received a confirmation email for this but I did not receive it lol <|endoftext|> \n",
            "Mykola: I visited once and was satisfied With the service I received <|endoftext|>  Steven: I received a confirmation email for this but I did not receive it lol <|endof\n",
            "\n",
            "[210 | 239.64] loss=0.04 avg=0.68\n",
            "[220 | 246.34] loss=0.01 avg=0.65\n",
            "[230 | 253.03] loss=0.04 avg=0.62\n",
            "[240 | 259.73] loss=0.03 avg=0.59\n",
            "[250 | 266.42] loss=0.06 avg=0.57\n",
            "======== SAMPLE 1 ========\n",
            " had it bad Most of all He didn't even say happy birthday to me Last thing I want to say is how much of a jerk I was being this year <|endoftext|>  Steven: how did that go? <|endoftext|> \n",
            "Mykola: I don't think he cares <|endoftext|>  Steven: not to mention that he doesn't even have birthday right? <|endoftext|> \n",
            "Mykola: Nope I'm going to work Then I'm gonna go grab a beer with some of my co-workers Inno way related To Here <|endoftext|>  Steven: You don't just wake up and decide people are lazy and unethical you learn from experience fa sho sar moteur means forever but I hope he finds a way to fix the game. I'm not interested in playing again  <|endoftext|> \n",
            "Mykola: I'm not gonna lie <|endoftext|>  Steven: it would be great if he did but I have other things to do today <|endoftext|> \n",
            "Mykola: A co-worker of mine is leaving this month He found a penetration testing job and he's super excited for it They have an offshore company and they are beginning to shift everything to france <|endoftext|>  Steven: y3ne fi chance you relocate to Franceeeeee? <|endoftext|> \n",
            "Mykola: They always find a way to spend less The percentage of fresh was increased today and there's a rumor it will be increased again in december I hope they do it <|endoftext|>  Steven: 5ayyyyyyy noicceee Are they funded min barra? <|endoftext|> \n",
            "Mykola: You always do great So dw I'm good Today I went to the office Got my salary <|endoftext|>  Steven: 5ayy <|endoftext|> \n",
            "Mykola: bye byeee <|endoftext|>  Steven: I have a presentation in 20 minutes or he will postpone it to next Tuesday  nshallah y2ajla im not in the mood to speak for 20 minutes How are you? <|endoftext|> \n",
            "Mykola: I am fully committed to genshin bas bshufa hasab adeh bada waet tenzal <|endoftext|>  Steven: alright my class is in 3 mins. Byeee <|endoftext|> \n",
            "Mykola: did you try it? <|endoftext|>  Steven: I played the first 20 minutes check it out you might like it <|endoftext|> \n",
            "Mykola: nope what type of game hiye? <|endoftext|>  Steven: Role play w hek Anime themed btshbah Genshin bas very different <|endoftext|> \n",
            "Mykola: in 53min a new character in genshin will drop I can't waitt yaret baarif hada byel3aba kamen <|endoftext|>  Steven:  ouch My friend 3m bedall y2elle 3an EpicSeven the mobile game. do you know it? <|endoftext|> \n",
            "Mykola: cz ma hada byestaaml discord mn l group I mean <|endoftext|>  Steven: fair <|endoftext|> \n",
            "Mykola: heh <|endoftext|>  Steven: bas use the other channels kamen. Share some cool music or something cool the server's a wasteland <|endoftext|> \n",
            "Mykola: okay thanks nan I realized you are committed to the quote/month thing <|endoftext|>  Steven: Yes, yes I am lol <|endoftext|> \n",
            "Mykola: Oh nan choose 4 characters please nan <|endoftext|>  Steven: Tartaglia Kaeya Sayu  Aloyyyyy (she's from horizon zero dawn) <|endoftext|> \n",
            "Mykola: Are you planning on playing genshin? Or any game? <|endoftext|>  Steven: Idk i can’t seem to find the time  <|endoftext|> \n",
            "Mykola: Saw the cast  I'm obsessed <|endoftext|>  Steven: We watched the trailer omg we should have watched the whole thing <|endoftext|> \n",
            "Mykola: I will try Mine is so cute I can't get over it <|endoftext|>  Steven: it's very different from anything else I've tried <|endof\n",
            "\n",
            "[260 | 290.81] loss=0.03 avg=0.54\n",
            "[270 | 297.51] loss=0.04 avg=0.52\n",
            "[280 | 304.20] loss=0.02 avg=0.50\n",
            "[290 | 310.90] loss=0.08 avg=0.48\n",
            "[300 | 317.60] loss=0.05 avg=0.47\n",
            "Saving checkpoint/run1/model-300\n",
            "======== SAMPLE 1 ========\n",
            "||endoftext|>  Steven: the story is kind of simple. A group of friends get together and explore Alaska. We stopped in at a gas station and bought fuel for the trip home. That's it. No cars. Just me and my buddy. We explored for a couple hours. Then we drove over to Alaska and did some hunting. <|endoftext|> \n",
            "Mykola: Yup I'm not planning on staying there tbh But now I feel more guarded with them Enta did you have any adventures  mn wa2ta ma rehet? Did you make friends? Go to parties? Plant a tree? <|endoftext|>  Steven: the adventures of walmart and target  jk <|endoftext|> \n",
            "Mykola: Nshalla bas I doubt it would be the case Al ta nazil docker So most probably medre shu emlo w rah nerjaa nfut bl he was dead <|endoftext|>  Steven: could it be he's evil? <|endoftext|> \n",
            "Mykola: I doubt it would be the case Al ta nazil docker So most probably medre shu emlo w rah nerjaa nfut bl he was dead <|endoftext|>  Steven: could it be he's evil? <|endoftext|> \n",
            "Mykola: A co-worker of mine just got promoted To manager And he's super excited <|endoftext|>  Steven: oh wow oh wow oh wow oh wow oh wow oh wow oh wow <|endoftext|> \n",
            "Mykola: I don't think so He's in the security field He's basically going to be paid to hack applications <|endoftext|>  Steven: ohh <|endoftext|> \n",
            "Mykola: Whym? He said it's really nice. He get to face new challenges with each project <|endoftext|>  Steven: isn't that very IT oriented w networking <|endoftext|> \n",
            "Mykola: I don't want to <|endoftext|>  Steven: sounds lame tbh <|endoftext|> \n",
            "Mykola: A co-worker of mine is leaving this month He's super excited about it <|endoftext|>  Steven: ohh <|endoftext|> \n",
            "Mykola: They always find a way to spend less The percentage of fresh was increased today and there's a rumor it will be increased again in december I hope they do it <|endoftext|>  Steven: yea I'm interested in bailing them out but I don't think it's going to happen But I will be contacting them for recommendations <|endoftext|> \n",
            "Mykola: Btw Did you try it? <|endoftext|>  Steven: I haven't tried it myself but I will be contacting the developers to ask them to make a clone of w ese4eca20eed9db88 <|endoftext|> \n",
            "Mykola: I don't think so He's in the security field He's basically going to be paid to hack applications <|endoftext|>  Steven: ohh <|endoftext|> \n",
            "Mykola: Yesss <|endoftext|>  Steven: you get recommendations from your peers which is great <|endoftext|> \n",
            "Mykola: Btw How are you? <|endoftext|>  Steven: good <|endoftext|> \n",
            "Mykola: I'm doing fine I just had to go to the office <|endoftext|>  Steven: Oh yeah you had a ball last weekend Shadhe was in town too. He took us all hiking. I'm definitely going to Shadhe next year. I bought a power bank for the house too. I have a feeling we'll be using it all this winter <|endoftext|> \n",
            "Mykola: How were you? <|endoftext|>  Steven: fine, worked today <|endoftext|> \n",
            "Mykola: I was charged today <|endoftext|>  Steven: oh wow <|endoftext|> \n",
            "Mykola: Khayyy That's good <|endoftext|>  Steven: you should come visit we'll take that hike together  <|endoftext|> \n",
            "Mykola: I'm feeling neutral I was expecting a lot of activity Last week y'all went to Cozumel <|endoftext|>  Steven: yea but I was craving burgers. I went to every fry I can imagine having a bad burger in front of a fry is\n",
            "\n",
            "[310 | 350.08] loss=0.06 avg=0.45\n",
            "[320 | 356.78] loss=0.03 avg=0.44\n",
            "[330 | 363.47] loss=0.02 avg=0.42\n",
            "[340 | 370.17] loss=0.03 avg=0.41\n",
            "[350 | 376.86] loss=0.01 avg=0.40\n",
            "======== SAMPLE 1 ========\n",
            "||endoftext|>  Steven: yes, I've been to Orlando twice <|endoftext|> \n",
            "Mykola: I'm going to Montreal bcz of my stan range mate is in the navy <|endoftext|>  Steven:   mn ta nfut bl deadlines but we accomplished a lot together <|endoftext|> \n",
            "Mykola: Yup Saw it and was planning on researching it further <|endoftext|>  Steven: Lor ch3at bl aamol shi <|endoftext|> \n",
            "Mykola: Oh <|endoftext|>  Steven: No Need a source! Just Google it! I found a couple of articles that are interesting <|endoftext|> \n",
            "Mykola: I'm feeling neutral Ork Mycen Is it cold? <|endoftext|>  Steven: not cold <|endoftext|> \n",
            "Mykola: Is it true? <|endoftext|>  Steven: no Not in this game man <|endoftext|> \n",
            "Mykola: Yup Saw it and was planning on researching it further <|endoftext|>  Steven: We met once and told him everything we knew about him <|endoftext|> \n",
            "Mykola: Eshaa Bas Hek Fa Sheyfe patterns Mcgill me and he stopped paying attention to me When I told him you met, he was super upset '' Why? He said he's having some personal issues with me. I explained to him that you met, and that we talked, and that everything was fine. He kept insisting on doing math problems and I was like, you don't have to do this, you can do anything you want as long as you keep your head down and do your homework <|endoftext|>  Steven: Unfortunately, that's exactly what he's been doing all these years <|endoftext|> \n",
            "Mykola: He's understanding and did not change with me which is fine He said that you two should meet once and he would meet with him <|endoftext|>  Steven: We met once and told him that you two should meet once and he would meet with him Inno way is this a meeting between friends <|endoftext|> \n",
            "Mykola: It's not supposed to be this way met in real life But it happened <|endoftext|>  Steven: mmhm fi huge plot twist bil e5er just saying <|endoftext|> \n",
            "Mykola: We didn't even know each other for two months <|endoftext|>  Steven: oh <|endoftext|> \n",
            "Mykola: Bas Hek Fa Sheyfe patterns Mcgill me and he stopped paying attention to me When I told him you met, he was super upset  {{|endoftext|>  Steven:   i see <|endoftext|> \n",
            "Mykola: I went to his research trip. He didn't even know ROS so I explained to him how the system is set up and that you're doing research on it <|endoftext|>  Steven: Oh wow <|endoftext|> \n",
            "Mykola: Cz they don't have a tutorial or a Genshin class <|endoftext|>  Steven: not yet Mcgill dept. has a free class for 3-5 people <|endoftext|> \n",
            "Mykola: Oh But Rosalind, you worked with em for months <|endoftext|>  Steven: yes we met once and told him everything we knew about ROS w he was super excited to use it w nfut bl he still has a long way to go <|endoftext|> \n",
            "Mykola: He doesn't even know ROS <|endoftext|>  Steven: ouch <|endoftext|> \n",
            "Mykola: Bade eb3at gif te3at bl we didn't even know ROS min w1at he had to download and install 8 rsysw saro w he doesn't even have root access so he has to use an external drive for accessing the system <|endoftext|>  Steven: hmmm... <|endoftext|> \n",
            "Mykola: Fa sheyfe patterns Mcgill me and he stopped responding to my texts and messages even though we were in the middle of a project He didn't even know ROS so I spent the whole day trying to get him to understand what was going on and he didn't even know ROS so I had to resort to using the outside world to contact him <|endoftext|>  Steven: sheesh <|endoftext|>\n",
            "\n",
            "[360 | 401.01] loss=0.04 avg=0.38\n",
            "[370 | 407.71] loss=0.04 avg=0.37\n",
            "[380 | 414.40] loss=0.04 avg=0.36\n",
            "[390 | 421.10] loss=0.04 avg=0.35\n",
            "[400 | 427.79] loss=0.01 avg=0.34\n",
            "Saving checkpoint/run1/model-400\n",
            "So you want to become a physician? You already have a degree in whatever it is you're doing Now you just have to apply to the USPTO <|endoftext|> <|endoftext|> <|endoftext|> <|endoftext|> <|endoftext|> <|endoftext|> <|endoftext|> <|endoftext|> <|endoftext|> <|endoftext|> <|endoftext|> <|endoftext|> <|endoftext|> <|endoftext|> <|endoftext|> <|endoftext|> <|endoftext|> <|endoftext|> <|endoftext|> <|endoftext|> <|endoftext|> <|endoftext|> <|endoftext|> <|endoftext|> <|endoftext|> <|endoftext|> <|endoftext|> <|endoftext|> <|endoftext|> <|endoftext|> <|endoftext|> <|endoftext|> <|endoftext|> <|endoftext|> <|endoftext|> <|endoftext|> <|endoftext|> <|endoftext|> <|endoftext|> <|endoftext|> <|endoftext|> <|endoftext|> <|endoftext|> <|endoftext|> <|endoftext|> <|endoftext|> <|endoftext|> <|endoftext|> <|endoftext|> <|endoftext|> <|endoftext|> <|endoftext|> <|endoftext|> <|endoftext|> <|endoftext|> <|endoftext|> <|endoftext|> <|endoftext|> <|endoftext|> <|endoftext|> <|endoftext|> <|endoftext|> <|endoftext|> <|endoftext|> <|endoftext|> <|endoftext|> <|endoftext|> <|endoftext|> <|endoftext|> <|endoftext|> <|endoftext|> <|endoftext|> <|endoftext|> <|endoftext|> <|endoftext|> <|endoftext|> <|endoftext|> <|endoftext|> <|endoftext|> <|endoftext|> <|endoftext|> <|endoftext|> <|endoftext|> <|endoftext|> <|endoftext|> <|endoftext|> <|endoftext|> <|endoftext|> <|endoftext|> <|endoftext|> <|endoftext|> <|endoftext|> <|endoftext|> <|endoftext|> <|endoftext|> <|endoftext|> <|endoftext|> <|endoftext|> <|endoftext|> <|endoftext|> <|endoftext|> <|endoftext|> <|endoftext|> <|endoftext|> <|endoftext|> <|endoftext|> <|endoftext|> <|endoftext|> <|endoftext|> <|endoftext|> <|endoftext|> <|endoftext|> <|endoftext|> <|endoftext|> <|endoftext|> <|endoftext|> <|endoftext|> <|endoftext|> <|endoftext|> <|endoftext|> <|endoftext|> <|endoftext|> <|endoftext|> <|endoftext|> <|endoftext|> <|endoftext|> <|endoftext|> <|endoftext|> <|endoftext|> <|endoftext|> <|endoftext|> <|endoftext|> <|endoftext|> <|endoftext|> <|endoftext|> <|endoftext|> <|endoftext|> <|endoftext|> <|endoftext|> <|endoftext|> <|endoftext|> <|endoftext\n"
          ]
        }
      ]
    },
    {
      "cell_type": "code",
      "metadata": {
        "id": "WJEehqMYImmY"
      },
      "source": [
        "results = gpt2.generate(sess, length=75, temperature=1.0, prefix='Mykola: Are you doing ok? <|endoftext|> Steven: ', \n",
        "              nsamples=5, batch_size=5, return_as_list=True)"
      ],
      "execution_count": 18,
      "outputs": []
    },
    {
      "cell_type": "code",
      "metadata": {
        "id": "_3eqFtTwGdQs",
        "colab": {
          "base_uri": "https://localhost:8080/"
        },
        "outputId": "86f0b50b-673f-43ce-d95e-51c448a35beb"
      },
      "source": [
        "responses = []\n",
        "with open('output_samples.txt', 'w') as f:\n",
        "  for i in range(len(results)):\n",
        "    print(results[i].split('<|endoftext|>')[1] + '\\n')\n",
        " "
      ],
      "execution_count": 19,
      "outputs": [
        {
          "output_type": "stream",
          "name": "stdout",
          "text": [
            " Steven:       works \n",
            "\n",
            " Steven:  I'm doing great. Work was a little overwhelming. I had a blast \n",
            "\n",
            " Steven:  my laptop keeps crashing, and it will for the foreseeable future bas a small part of it is pre-installed on my mac \n",
            "\n",
            " Steven:  \n",
            "\n",
            " Steven:      enjoy the ride \n",
            "\n"
          ]
        }
      ]
    },
    {
      "cell_type": "code",
      "metadata": {
        "colab": {
          "base_uri": "https://localhost:8080/"
        },
        "id": "XpYGAZvdeZ2U",
        "outputId": "3b72aec1-08c0-4585-be20-cbeca9840b82"
      },
      "source": [
        ""
      ],
      "execution_count": 8,
      "outputs": [
        {
          "output_type": "execute_result",
          "data": {
            "text/plain": [
              "['Mykola: how are you today? <|endoftext|> Steven:    good <|endoftext|> \\nMykola: how many years? <|endoftext|> Steven: 11 and he plans on continuing on with his studies <|endoftext|> \\nMykola: how many months? <|endoftext|> Steven: 1 month <|endoftext|> ',\n",
              " 'Mykola: how are you today? <|endoftext|> Steven:   wre got a new power core fining me multiple thousands of dollars <|endoftext|> \\nMykola: good <|endoftext|> Steven: took a long time <|endoftext|> \\nMykola: budget okay but im still spending a lot of time with my colleagues so you have to take into consideration our',\n",
              " \"Mykola: how are you today? <|endoftext|> Steven:  mkay then I'll go study with a new friend I met or rather grade papers :/ <|endoftext|> \\nMykola: good <|endoftext|> Steven: sho kamen fi shi lezem t3mlee blah blah blah <|endoftext|> \\nMykola: heh <|\",\n",
              " \"Mykola: how are you today? <|endoftext|> Steven:  m y successful thank god <|endoftext|> \\nMykola: did you take pictures? <|endoftext|> Steven: yeah wait <|endoftext|> \\nMykola: which course? <|endoftext|> Steven: it's like EECE210 <|endoftext|> \\n\",\n",
              " 'Mykola: how are you today? <|endoftext|> Steven:  mkayyyyy <|endoftext|> \\nMykola: good <|endoftext|> Steven: resolved a minor issue today <|endoftext|> \\nMykola: done good <|endoftext|> Steven: worked on resolving a minor issue today <|endoftext|> \\nMykola',\n",
              " \"Mykola: how are you today? <|endoftext|> Steven:  mkaydd <|endoftext|> \\nMykola: I'm fully committed to genshin bas bshufa hasab adeh bada waet tenzal <|endoftext|> Steven: also look for a topic for your studies not just FIGHT <|endoftext|> \\nMykola: did you\",\n",
              " \"Mykola: how are you today? <|endoftext|> Steven:    good <|endoftext|> \\nMykola: how? <|endoftext|> Steven: for example, let's say you go to LA and buy yourself a car <|endoftext|> \\nMykola: if you take the weekend off u can use it  ill take it personally <|endoftext\",\n",
              " 'Mykola: how are you today? <|endoftext|> Steven:  msh teme aala beirut yet <|endoftext|> \\nMykola: xdd Hope u find things you like <|endoftext|> Steven: you’re not playing Genshin? <|endoftext|> \\nMykola: Good Good Good Nope Anything wanna share? <|endof',\n",
              " \"Mykola: how are you today? <|endoftext|> Steven:  mkay l 16 febr 28 <|endoftext|> \\nMykola: I am under the influence of psilocybin today w that's all <|endoftext|> Steven: nan this is unreal Mzee t3asir blah blah <|endoftext|> \\nMykola: okkk good I will sleep\",\n",
              " 'Mykola: how are you today? <|endoftext|> Steven:  m y Friday <|endoftext|> \\nMykola: good Good Good Nope Anything wanna share? <|endoftext|> Steven: Nothing really. I need to buy clothes Not that you needed to know 🤣 <|endoftext|> \\nMykola: 12 feb NANIIII Is everything ok? Your',\n",
              " \"Mykola: how are you today? <|endoftext|> Steven:  mkay then watch the first episode of demon slayer <|endoftext|> \\nMykola: okkkkk Thank you <|endoftext|> Steven: You took the whole thing innit? <|endoftext|> \\nMykola: I literally didn't know <|endoftext|> Steven: You literally\",\n",
              " \"Mykola: how are you today? <|endoftext|> Steven:  mkay today <|endoftext|> \\nMykola: good <|endoftext|> Steven: got a flight to Boston to catch up with ya'll I think <|endoftext|> \\nMykola: will check it out <|endoftext|> Steven: if you don't mind, I have a feeling\",\n",
              " 'Mykola: how are you today? <|endoftext|> Steven:  yesterday <|endoftext|> \\nMykola: good <|endoftext|> Steven: how was your day? <|endoftext|> \\nMykola: it got postponed till Wednesday the guy before me took forever <|endoftext|> Steven:       works <|endoftext|',\n",
              " 'Mykola: how are you today? <|endoftext|> Steven:  btw you forgot to mention yours <|endoftext|> \\nMykola: heh <|endoftext|> Steven:  ok, im gonna go get changed then <|endoftext|> \\nMykola: okayttttttttttttttTill threesome is obvious <|endoftext|>',\n",
              " \"Mykola: how are you today? <|endoftext|> Steven:  mkay then watch the show and you'll find out Yeah I'm watching a bunch <|endoftext|> \\nMykola: B kel l belden fi ma 3ada baladna l helo Bummer <|endoftext|> Steven: but if I would, I would do it again <|endoftext|>\",\n",
              " 'Mykola: how are you today? <|endoftext|> Steven:  mkay <|endoftext|> \\nMykola: I am fully committed to genshin bas bshufa hasab adeh bada waet tenzal <|endoftext|> Steven: still searching <|endoftext|> \\nMykola: voted for you twice actually <|endoftext|>',\n",
              " 'Mykola: how are you today? <|endoftext|> Steven:   belated happy birthday to ya <|endoftext|> \\nMykola: my birthday present i got to thinking about it b bc of the way you moved and the things you said <|endoftext|> Steven: yesssssssss i forgot <|endoftext|> \\nMykola: :) How was your',\n",
              " 'Mykola: how are you today? <|endoftext|> Steven:  mshhh hek siya ana ele jalad Byiizz <|endoftext|> \\nMykola: good <|endoftext|> Steven: been in the lab all day  working on the sheet music patch <|endoftext|> \\nMykola: how many days? <|endoftext|>',\n",
              " \"Mykola: how are you today? <|endoftext|> Steven:  m y badon yenlaza2 ottawa level 0 w 0 aw dat's it <|endoftext|> \\nMykola: good <|endoftext|> Steven: survived bas thank god <|endoftext|> \\nMykola: was his presentation interesting? <|endoftext|> Steven: No!\",\n",
              " \"Mykola: how are you today? <|endoftext|> Steven:  mshhhhhhh I'm fine. Just being careful not to knock over anything <|endoftext|> \\nMykola: good <|endoftext|> Steven: are you planning on buying him a drink? because I feel like i'm gonna need it <|endoftext|> \\nMykola: okkk good luck!!\",\n",
              " \"Mykola: how are you today? <|endoftext|> Steven:  mkay then continue reading <|endoftext|> \\nMykola: how is everything? <|endoftext|> Steven: awesome <|endoftext|> \\nMykola: awesome <|endoftext|> Steven: i'm spending the day and afternoon getting used to all of it <|endoftext|>\",\n",
              " \"Mykola: how are you today? <|endoftext|> Steven:  mshhhhhh nothing fancy <|endoftext|> \\nMykola: what are you doing now? <|endoftext|> Steven: I'm going to the office <|endoftext|> \\nMykola: you definitely have a lot on your mind right now don't you? <|endoftext|> Steven\",\n",
              " 'Mykola: how are you today? <|endoftext|> Steven:  mshhh he thinks you might be bored <|endoftext|> ken fee taboor metel tawabeer l benzene just to see it i should have taken a photo yess, but dont u think we should be doing stuff like that going to earth orbit  <|endoftext|>  Steven: yeah we should have this going',\n",
              " \"Mykola: how are you today? <|endoftext|> Steven:    thank god <|endoftext|> \\nMykola: good <|endoftext|> Steven: spent the whole day and yesterday waiting for the EC to change his mind and I finally got it's green light <|endoftext|> \\nMykola: was tempotken supposed to be breakfast? <|endof\",\n",
              " \"Mykola: how are you today? <|endoftext|> Steven:  <|endoftext|> \\nMykola: good <|endoftext|> Steven: working on my assignment. Will go to Amsterdam tomorrow <|endoftext|> \\nMykola: appreciate the gesture <|endoftext|> Steven: you're going to Amsterdam tomorrow  <|endoftext|> \\nMy\",\n",
              " \"Mykola: how are you today? <|endoftext|> Steven:  mkay tomorrow <|endoftext|> \\nMykola: good luck!! <|endoftext|> Steven: talk to you!! <|endoftext|> \\nMykola: we're going to space camp  <|endoftext|> Steven: space camp? what's it about? <|endoftext|\",\n",
              " \"Mykola: how are you today? <|endoftext|> Steven:  mkay then come here and we'll continue this talk from there okay? <|endoftext|> \\nMykola: good Good Nope Anything wanna share? <|endoftext|> Steven: nothing really. I need to buy clothes Not that you needed to know 🤣 <|endoftext|> \\nMykola: 12\",\n",
              " \"Mykola: how are you today? <|endoftext|> Steven:          works <|endoftext|> \\nMykola: good <|endoftext|> Steven: how's work? <|endoftext|> \\nMykola: work? <|endoftext|> Steven: work with your colleagues? <|endoftext|> \\nMy\",\n",
              " \"Mykola: how are you today? <|endoftext|> Steven:  mshhhhhhh I'm fine. Just thinking about it <|endoftext|> \\nMykola: how was your day? <|endoftext|> Steven: great <|endoftext|> \\nMykola: ? <|endoftext|> Steven: been lots of work. Not too many people here, but\",\n",
              " 'Mykola: how are you today? <|endoftext|> Steven:  mkay\\nMykola: good <|endoftext|> Steven: stopped by the computer mn ta ma etham bukra rayha aala beirut b keef y2ajla beirut b shwe so ma tech. Ma khaso l internet. Ma khaso l troubleshoot. Fa aamol l',\n",
              " \"Mykola: how are you today? <|endoftext|> Steven:  m lyf aanjad he was dead <|endoftext|> \\nMykola: good <|endoftext|> Steven: spent the whole day and yesterday afternoon getting the hang of it <|endoftext|> \\nMykola: how? how? <|endoftext|> Steven: today mu'meen this\",\n",
              " \"Mykola: how are you today? <|endoftext|> Steven:    wre ktir tsum buku msh he was dead <|endoftext|> \\nMykola: okkkkk <|endoftext|> Steven: muhahahaha nice <|endoftext|> \\nMykola: I'm feeling better now I will go get changed then <|endoftext|\",\n",
              " \"Mykola: how are you today? <|endoftext|> Steven:  walking to the office <|endoftext|> \\nMykola: good <|endoftext|> Steven: been in the gym all day  l3amdellah how I feel after a hard day's work? <|endoftext|> \\nMykola: how? what happened? <|endoftext|> Steven\",\n",
              " \"Mykola: how are you today? <|endoftext|> Steven:  mkay then I'll sleep in <|endoftext|> \\nMykola: good <|endoftext|> Steven: thank you!! <|endoftext|> \\nMykola: we're having a crisis of confidence in front of everyone <|endoftext|> Steven: everyone? <|endoftext|>\",\n",
              " \"Mykola: how are you today? <|endoftext|> Steven:  michaela just got back from work. heh <|endoftext|> \\nMykola: lmf ken fee taboor metel tawabeer l benzene just to see it I should have taken a photo yess, but dont u think I should have my money and my house and my car and my sister's and blah\",\n",
              " 'Mykola: how are you today? <|endoftext|> Steven:  mkay  l beleived bil ethics <|endoftext|> \\nMykola: ik I thought you would be excited <|endoftext|> Steven: ken fee taboor metel tawabeer l benzene just to see it I should have my American friend watch this <|endoftext|> \\nMy',\n",
              " 'Mykola: how are you today? <|endoftext|> Steven:      working on completing my assignment. Will go to bed early so I can finish it before the weekend <|endoftext|> \\nMykola: good <|endoftext|> Steven: finished it? how many pages? <|endoftext|> \\nMykola: did you finish it? <|endof',\n",
              " \"Mykola: how are you today? <|endoftext|> Steven:  mkayyyyy [|endoftext|> \\nMykola: I'm fully recovered from surgery. Work is normal. My girlfriend and I are discussing ending the relationship. She doesn't want to continue because of the amount of time it's taking her and me. I told her I'm sorry if I was being pushy. I'm glad you're\",\n",
              " 'Mykola: how are you today? <|endoftext|> Steven:  mkay business ok then <|endoftext|> \\nMykola: good <|endoftext|> Steven: Hiiiiiiiiiiiiiiiiiiiiiii Posted this on instagram <|endoftext|> \\nMykola: bad as always <|endoftext|> Steven: always good to see you',\n",
              " 'Mykola: how are you today? <|endoftext|> Steven:  m y roll2030 roll http://www.reddit.com/r/Destinythegame/comments/2sf5xpj/lan_for_buy_one_day_buy_two_years/) <|endoftext|> \\nMykola: good Nope remember that shit <|endoftext|>  Steven: it doesn',\n",
              " 'Mykola: how are you today? <|endoftext|> Steven:  mkayyyyy yes and frolic till dawn every day <|endoftext|> \\nMykola: how were you today? <|endoftext|> Steven: spending the day with the zeroes <|endoftext|> \\nMykola: how were you today? <|endoftext|> Steven: I',\n",
              " 'Mykola: how are you today? <|endoftext|> Steven:   good <|endoftext|> \\nMykola: how many minutes did he take you? <|endoftext|> Steven: 5 mins <|endoftext|> \\nMykola:  Bade eb3at gif bas ma fataho mn wara l internet l sari3a This is unreal Msh m',\n",
              " 'Mykola: how are you today? <|endoftext|> Steven:     wow you must have been busy <|endoftext|> \\nMykola: I decided to apply to the Green Card Lottery I got accepted and my stuff is here <|endoftext|> Steven: Thank you <|endoftext|> \\nMykola: congrats! you got a green card! <|',\n",
              " \"Mykola: how are you today? <|endoftext|> Steven:  mshhhhhhhh I got an important presentation in front of the lab phd Universo 300 <|endoftext|> \\nMykola: we're having lunch in france <|endoftext|> Steven: bil. Shell in da3am sickness hospital  . Ma kena hek mn abel Bas I'm meeting with him\",\n",
              " 'Mykola: how are you today? <|endoftext|> Steven:  michael and jeremy are still with them <|endoftext|> um <|endoftext|> \\nMykola: good <|endoftext|> Steven: been getting little sleep lately I will sleep in on the weekend love that Draken avatar <|endoftext|> \\nMykola: unfortunately the people I',\n",
              " 'Mykola: how are you today? <|endoftext|> Steven:  mkayyyyy More like tomorrow <|endoftext|> \\nMykola: good <|endoftext|> Steven: thank you! goodnight <|endoftext|> \\nMykola: how were you today? <|endoftext|> Steven: been in the lab all day  working on the refreshment thing',\n",
              " 'Mykola: how are you today? <|endoftext|> Steven:       works <|endoftext|> \\nMykola: how? why? <|endoftext|> Steven: I went to the office <|endoftext|> \\nMykola: xdd Hope you find things you like <|endoftext|> Steven: You’re not playing Gens',\n",
              " \"Mykola: how are you today? <|endoftext|> Steven:    wow you're in good shape <|endoftext|> \\nMykola: how? why? <|endoftext|> Steven: my back hurts a little from carrying stuff so I'm going to the gym now I gotta rest <|endoftext|> \\nMykola: if you rest you'll be stronger okay?\",\n",
              " 'Mykola: how are you today? <|endoftext|> Steven:  > heh <|endoftext|> \\nMykola: how many years? <|endoftext|> Steven: 7 <|endoftext|> \\nMykola: Ik <|endoftext|> Steven: 7 <|endoftext|> \\nMykola: Hello <|endoftext|>',\n",
              " \"Mykola: how are you today? <|endoftext|> Steven:  mmm hiyye hay the l sessions were logged <|endoftext|> \\nMykola: good <|endoftext|> Steven: sho kamen fi 5 months <|endoftext|> \\nMykola: how much? <|endoftext|> Steven: it's like $1000 I think <|end\"]"
            ]
          },
          "metadata": {},
          "execution_count": 8
        }
      ]
    },
    {
      "cell_type": "code",
      "metadata": {
        "id": "-aIpESeAXcam",
        "colab": {
          "base_uri": "https://localhost:8080/",
          "height": 382
        },
        "outputId": "88805935-c98f-419b-e154-0a2d76a3a551"
      },
      "source": [
        "import pandas as pd\n",
        "samples = pd.read_csv('output_samples.txt', header=None)\n",
        "samples.head()"
      ],
      "execution_count": 9,
      "outputs": [
        {
          "output_type": "error",
          "ename": "EmptyDataError",
          "evalue": "ignored",
          "traceback": [
            "\u001b[0;31m---------------------------------------------------------------------------\u001b[0m",
            "\u001b[0;31mEmptyDataError\u001b[0m                            Traceback (most recent call last)",
            "\u001b[0;32m<ipython-input-9-c73e53537b3d>\u001b[0m in \u001b[0;36m<module>\u001b[0;34m()\u001b[0m\n\u001b[1;32m      1\u001b[0m \u001b[0;32mimport\u001b[0m \u001b[0mpandas\u001b[0m \u001b[0;32mas\u001b[0m \u001b[0mpd\u001b[0m\u001b[0;34m\u001b[0m\u001b[0;34m\u001b[0m\u001b[0m\n\u001b[0;32m----> 2\u001b[0;31m \u001b[0msamples\u001b[0m \u001b[0;34m=\u001b[0m \u001b[0mpd\u001b[0m\u001b[0;34m.\u001b[0m\u001b[0mread_csv\u001b[0m\u001b[0;34m(\u001b[0m\u001b[0;34m'output_samples.txt'\u001b[0m\u001b[0;34m,\u001b[0m \u001b[0mheader\u001b[0m\u001b[0;34m=\u001b[0m\u001b[0;32mNone\u001b[0m\u001b[0;34m)\u001b[0m\u001b[0;34m\u001b[0m\u001b[0;34m\u001b[0m\u001b[0m\n\u001b[0m\u001b[1;32m      3\u001b[0m \u001b[0msamples\u001b[0m\u001b[0;34m.\u001b[0m\u001b[0mhead\u001b[0m\u001b[0;34m(\u001b[0m\u001b[0;34m)\u001b[0m\u001b[0;34m\u001b[0m\u001b[0;34m\u001b[0m\u001b[0m\n",
            "\u001b[0;32m/usr/local/lib/python3.7/dist-packages/pandas/io/parsers.py\u001b[0m in \u001b[0;36mread_csv\u001b[0;34m(filepath_or_buffer, sep, delimiter, header, names, index_col, usecols, squeeze, prefix, mangle_dupe_cols, dtype, engine, converters, true_values, false_values, skipinitialspace, skiprows, skipfooter, nrows, na_values, keep_default_na, na_filter, verbose, skip_blank_lines, parse_dates, infer_datetime_format, keep_date_col, date_parser, dayfirst, cache_dates, iterator, chunksize, compression, thousands, decimal, lineterminator, quotechar, quoting, doublequote, escapechar, comment, encoding, dialect, error_bad_lines, warn_bad_lines, delim_whitespace, low_memory, memory_map, float_precision)\u001b[0m\n\u001b[1;32m    686\u001b[0m     )\n\u001b[1;32m    687\u001b[0m \u001b[0;34m\u001b[0m\u001b[0m\n\u001b[0;32m--> 688\u001b[0;31m     \u001b[0;32mreturn\u001b[0m \u001b[0m_read\u001b[0m\u001b[0;34m(\u001b[0m\u001b[0mfilepath_or_buffer\u001b[0m\u001b[0;34m,\u001b[0m \u001b[0mkwds\u001b[0m\u001b[0;34m)\u001b[0m\u001b[0;34m\u001b[0m\u001b[0;34m\u001b[0m\u001b[0m\n\u001b[0m\u001b[1;32m    689\u001b[0m \u001b[0;34m\u001b[0m\u001b[0m\n\u001b[1;32m    690\u001b[0m \u001b[0;34m\u001b[0m\u001b[0m\n",
            "\u001b[0;32m/usr/local/lib/python3.7/dist-packages/pandas/io/parsers.py\u001b[0m in \u001b[0;36m_read\u001b[0;34m(filepath_or_buffer, kwds)\u001b[0m\n\u001b[1;32m    452\u001b[0m \u001b[0;34m\u001b[0m\u001b[0m\n\u001b[1;32m    453\u001b[0m     \u001b[0;31m# Create the parser.\u001b[0m\u001b[0;34m\u001b[0m\u001b[0;34m\u001b[0m\u001b[0;34m\u001b[0m\u001b[0m\n\u001b[0;32m--> 454\u001b[0;31m     \u001b[0mparser\u001b[0m \u001b[0;34m=\u001b[0m \u001b[0mTextFileReader\u001b[0m\u001b[0;34m(\u001b[0m\u001b[0mfp_or_buf\u001b[0m\u001b[0;34m,\u001b[0m \u001b[0;34m**\u001b[0m\u001b[0mkwds\u001b[0m\u001b[0;34m)\u001b[0m\u001b[0;34m\u001b[0m\u001b[0;34m\u001b[0m\u001b[0m\n\u001b[0m\u001b[1;32m    455\u001b[0m \u001b[0;34m\u001b[0m\u001b[0m\n\u001b[1;32m    456\u001b[0m     \u001b[0;32mif\u001b[0m \u001b[0mchunksize\u001b[0m \u001b[0;32mor\u001b[0m \u001b[0miterator\u001b[0m\u001b[0;34m:\u001b[0m\u001b[0;34m\u001b[0m\u001b[0;34m\u001b[0m\u001b[0m\n",
            "\u001b[0;32m/usr/local/lib/python3.7/dist-packages/pandas/io/parsers.py\u001b[0m in \u001b[0;36m__init__\u001b[0;34m(self, f, engine, **kwds)\u001b[0m\n\u001b[1;32m    946\u001b[0m             \u001b[0mself\u001b[0m\u001b[0;34m.\u001b[0m\u001b[0moptions\u001b[0m\u001b[0;34m[\u001b[0m\u001b[0;34m\"has_index_names\"\u001b[0m\u001b[0;34m]\u001b[0m \u001b[0;34m=\u001b[0m \u001b[0mkwds\u001b[0m\u001b[0;34m[\u001b[0m\u001b[0;34m\"has_index_names\"\u001b[0m\u001b[0;34m]\u001b[0m\u001b[0;34m\u001b[0m\u001b[0;34m\u001b[0m\u001b[0m\n\u001b[1;32m    947\u001b[0m \u001b[0;34m\u001b[0m\u001b[0m\n\u001b[0;32m--> 948\u001b[0;31m         \u001b[0mself\u001b[0m\u001b[0;34m.\u001b[0m\u001b[0m_make_engine\u001b[0m\u001b[0;34m(\u001b[0m\u001b[0mself\u001b[0m\u001b[0;34m.\u001b[0m\u001b[0mengine\u001b[0m\u001b[0;34m)\u001b[0m\u001b[0;34m\u001b[0m\u001b[0;34m\u001b[0m\u001b[0m\n\u001b[0m\u001b[1;32m    949\u001b[0m \u001b[0;34m\u001b[0m\u001b[0m\n\u001b[1;32m    950\u001b[0m     \u001b[0;32mdef\u001b[0m \u001b[0mclose\u001b[0m\u001b[0;34m(\u001b[0m\u001b[0mself\u001b[0m\u001b[0;34m)\u001b[0m\u001b[0;34m:\u001b[0m\u001b[0;34m\u001b[0m\u001b[0;34m\u001b[0m\u001b[0m\n",
            "\u001b[0;32m/usr/local/lib/python3.7/dist-packages/pandas/io/parsers.py\u001b[0m in \u001b[0;36m_make_engine\u001b[0;34m(self, engine)\u001b[0m\n\u001b[1;32m   1178\u001b[0m     \u001b[0;32mdef\u001b[0m \u001b[0m_make_engine\u001b[0m\u001b[0;34m(\u001b[0m\u001b[0mself\u001b[0m\u001b[0;34m,\u001b[0m \u001b[0mengine\u001b[0m\u001b[0;34m=\u001b[0m\u001b[0;34m\"c\"\u001b[0m\u001b[0;34m)\u001b[0m\u001b[0;34m:\u001b[0m\u001b[0;34m\u001b[0m\u001b[0;34m\u001b[0m\u001b[0m\n\u001b[1;32m   1179\u001b[0m         \u001b[0;32mif\u001b[0m \u001b[0mengine\u001b[0m \u001b[0;34m==\u001b[0m \u001b[0;34m\"c\"\u001b[0m\u001b[0;34m:\u001b[0m\u001b[0;34m\u001b[0m\u001b[0;34m\u001b[0m\u001b[0m\n\u001b[0;32m-> 1180\u001b[0;31m             \u001b[0mself\u001b[0m\u001b[0;34m.\u001b[0m\u001b[0m_engine\u001b[0m \u001b[0;34m=\u001b[0m \u001b[0mCParserWrapper\u001b[0m\u001b[0;34m(\u001b[0m\u001b[0mself\u001b[0m\u001b[0;34m.\u001b[0m\u001b[0mf\u001b[0m\u001b[0;34m,\u001b[0m \u001b[0;34m**\u001b[0m\u001b[0mself\u001b[0m\u001b[0;34m.\u001b[0m\u001b[0moptions\u001b[0m\u001b[0;34m)\u001b[0m\u001b[0;34m\u001b[0m\u001b[0;34m\u001b[0m\u001b[0m\n\u001b[0m\u001b[1;32m   1181\u001b[0m         \u001b[0;32melse\u001b[0m\u001b[0;34m:\u001b[0m\u001b[0;34m\u001b[0m\u001b[0;34m\u001b[0m\u001b[0m\n\u001b[1;32m   1182\u001b[0m             \u001b[0;32mif\u001b[0m \u001b[0mengine\u001b[0m \u001b[0;34m==\u001b[0m \u001b[0;34m\"python\"\u001b[0m\u001b[0;34m:\u001b[0m\u001b[0;34m\u001b[0m\u001b[0;34m\u001b[0m\u001b[0m\n",
            "\u001b[0;32m/usr/local/lib/python3.7/dist-packages/pandas/io/parsers.py\u001b[0m in \u001b[0;36m__init__\u001b[0;34m(self, src, **kwds)\u001b[0m\n\u001b[1;32m   2008\u001b[0m         \u001b[0mkwds\u001b[0m\u001b[0;34m[\u001b[0m\u001b[0;34m\"usecols\"\u001b[0m\u001b[0;34m]\u001b[0m \u001b[0;34m=\u001b[0m \u001b[0mself\u001b[0m\u001b[0;34m.\u001b[0m\u001b[0musecols\u001b[0m\u001b[0;34m\u001b[0m\u001b[0;34m\u001b[0m\u001b[0m\n\u001b[1;32m   2009\u001b[0m \u001b[0;34m\u001b[0m\u001b[0m\n\u001b[0;32m-> 2010\u001b[0;31m         \u001b[0mself\u001b[0m\u001b[0;34m.\u001b[0m\u001b[0m_reader\u001b[0m \u001b[0;34m=\u001b[0m \u001b[0mparsers\u001b[0m\u001b[0;34m.\u001b[0m\u001b[0mTextReader\u001b[0m\u001b[0;34m(\u001b[0m\u001b[0msrc\u001b[0m\u001b[0;34m,\u001b[0m \u001b[0;34m**\u001b[0m\u001b[0mkwds\u001b[0m\u001b[0;34m)\u001b[0m\u001b[0;34m\u001b[0m\u001b[0;34m\u001b[0m\u001b[0m\n\u001b[0m\u001b[1;32m   2011\u001b[0m         \u001b[0mself\u001b[0m\u001b[0;34m.\u001b[0m\u001b[0munnamed_cols\u001b[0m \u001b[0;34m=\u001b[0m \u001b[0mself\u001b[0m\u001b[0;34m.\u001b[0m\u001b[0m_reader\u001b[0m\u001b[0;34m.\u001b[0m\u001b[0munnamed_cols\u001b[0m\u001b[0;34m\u001b[0m\u001b[0;34m\u001b[0m\u001b[0m\n\u001b[1;32m   2012\u001b[0m \u001b[0;34m\u001b[0m\u001b[0m\n",
            "\u001b[0;32mpandas/_libs/parsers.pyx\u001b[0m in \u001b[0;36mpandas._libs.parsers.TextReader.__cinit__\u001b[0;34m()\u001b[0m\n",
            "\u001b[0;31mEmptyDataError\u001b[0m: No columns to parse from file"
          ]
        }
      ]
    },
    {
      "cell_type": "code",
      "metadata": {
        "id": "9GzrO5J0vmxw"
      },
      "source": [
        "import tensorflow as tf \n",
        "import tensorflow_hub as hub\n",
        "import tensorflow_text as text "
      ],
      "execution_count": null,
      "outputs": []
    },
    {
      "cell_type": "code",
      "metadata": {
        "id": "PVuRgMf9-gY8"
      },
      "source": [
        "tf.config.run_functions_eagerly(True)"
      ],
      "execution_count": null,
      "outputs": []
    },
    {
      "cell_type": "code",
      "metadata": {
        "id": "2CcFMw4T_G5c"
      },
      "source": [
        "print(tf.__version__)"
      ],
      "execution_count": null,
      "outputs": []
    },
    {
      "cell_type": "code",
      "metadata": {
        "id": "LByvNVkgvy2e"
      },
      "source": [
        "bert_preprocess = hub.KerasLayer(\"https://tfhub.dev/tensorflow/bert_en_uncased_preprocess/3\")\n",
        "bert_encoder = hub.KerasLayer(\"https://tfhub.dev/tensorflow/bert_en_uncased_L-12_H-768_A-12/4\")"
      ],
      "execution_count": null,
      "outputs": []
    },
    {
      "cell_type": "code",
      "metadata": {
        "id": "WIsBmk45-Fzk"
      },
      "source": [
        ""
      ],
      "execution_count": null,
      "outputs": []
    },
    {
      "cell_type": "code",
      "metadata": {
        "id": "L5eFdvd01gTr"
      },
      "source": [
        "def get_sentence_embedding(sentences):\n",
        "    preprocessed_text = bert_preprocess(sentences)\n",
        "    return bert_encoder(preprocessed_text)['pooled_output']\n",
        "\n",
        "get_sentence_embedding([\n",
        "    \"500$ discount. hurry up\", \n",
        "    \"Bhavin, are you up for a volleybal game tomorrow?\"]\n",
        ")"
      ],
      "execution_count": null,
      "outputs": []
    },
    {
      "cell_type": "code",
      "metadata": {
        "id": "2G73PnQ48Dp0"
      },
      "source": [
        "e = get_sentence_embedding([\n",
        "    \"banana\", \n",
        "    \"grapes\",\n",
        "    \"mango\",\n",
        "    \"jeff bezos\",\n",
        "    \"elon musk\",\n",
        "    \"bill gates\"\n",
        "]\n",
        ")"
      ],
      "execution_count": null,
      "outputs": []
    },
    {
      "cell_type": "code",
      "metadata": {
        "id": "jEXxOBfO-Co4"
      },
      "source": [
        "from transformers import pipeline "
      ],
      "execution_count": null,
      "outputs": []
    },
    {
      "cell_type": "code",
      "metadata": {
        "id": "y6p2eLST9Tc6"
      },
      "source": [
        "!pip install ktrain"
      ],
      "execution_count": null,
      "outputs": []
    },
    {
      "cell_type": "code",
      "metadata": {
        "id": "2KfKqwGD5j5C"
      },
      "source": [
        ""
      ],
      "execution_count": null,
      "outputs": []
    },
    {
      "cell_type": "code",
      "metadata": {
        "id": "M3h11-_h6JVX"
      },
      "source": [
        ""
      ],
      "execution_count": null,
      "outputs": []
    },
    {
      "cell_type": "code",
      "metadata": {
        "id": "1iNY89-d7Eiu"
      },
      "source": [
        ""
      ],
      "execution_count": null,
      "outputs": []
    }
  ]
}